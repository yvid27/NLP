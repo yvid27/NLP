{
  "nbformat": 4,
  "nbformat_minor": 0,
  "metadata": {
    "colab": {
      "name": "2021SPDL_SentimentA.ipynb",
      "provenance": [],
      "collapsed_sections": [],
      "authorship_tag": "ABX9TyNWBSbpeIez93C6+tFFXP4/",
      "include_colab_link": true
    },
    "kernelspec": {
      "display_name": "Python 3",
      "name": "python3"
    },
    "accelerator": "GPU",
    "widgets": {
      "application/vnd.jupyter.widget-state+json": {
        "58e13a54e473427692694233ee8d7296": {
          "model_module": "@jupyter-widgets/controls",
          "model_name": "HBoxModel",
          "state": {
            "_view_name": "HBoxView",
            "_dom_classes": [],
            "_model_name": "HBoxModel",
            "_view_module": "@jupyter-widgets/controls",
            "_model_module_version": "1.5.0",
            "_view_count": null,
            "_view_module_version": "1.5.0",
            "box_style": "",
            "layout": "IPY_MODEL_08dae138c14642989240a4fd6d878daf",
            "_model_module": "@jupyter-widgets/controls",
            "children": [
              "IPY_MODEL_9b42b2dd397e43a686dc7649b14306a6",
              "IPY_MODEL_84a397f55ba14e029626554da45a4316"
            ]
          }
        },
        "08dae138c14642989240a4fd6d878daf": {
          "model_module": "@jupyter-widgets/base",
          "model_name": "LayoutModel",
          "state": {
            "_view_name": "LayoutView",
            "grid_template_rows": null,
            "right": null,
            "justify_content": null,
            "_view_module": "@jupyter-widgets/base",
            "overflow": null,
            "_model_module_version": "1.2.0",
            "_view_count": null,
            "flex_flow": null,
            "width": null,
            "min_width": null,
            "border": null,
            "align_items": null,
            "bottom": null,
            "_model_module": "@jupyter-widgets/base",
            "top": null,
            "grid_column": null,
            "overflow_y": null,
            "overflow_x": null,
            "grid_auto_flow": null,
            "grid_area": null,
            "grid_template_columns": null,
            "flex": null,
            "_model_name": "LayoutModel",
            "justify_items": null,
            "grid_row": null,
            "max_height": null,
            "align_content": null,
            "visibility": null,
            "align_self": null,
            "height": null,
            "min_height": null,
            "padding": null,
            "grid_auto_rows": null,
            "grid_gap": null,
            "max_width": null,
            "order": null,
            "_view_module_version": "1.2.0",
            "grid_template_areas": null,
            "object_position": null,
            "object_fit": null,
            "grid_auto_columns": null,
            "margin": null,
            "display": null,
            "left": null
          }
        },
        "9b42b2dd397e43a686dc7649b14306a6": {
          "model_module": "@jupyter-widgets/controls",
          "model_name": "FloatProgressModel",
          "state": {
            "_view_name": "ProgressView",
            "style": "IPY_MODEL_1d1f658719384b08b00f7ad49f4019e9",
            "_dom_classes": [],
            "description": "Downloading: 100%",
            "_model_name": "FloatProgressModel",
            "bar_style": "success",
            "max": 658,
            "_view_module": "@jupyter-widgets/controls",
            "_model_module_version": "1.5.0",
            "value": 658,
            "_view_count": null,
            "_view_module_version": "1.5.0",
            "orientation": "horizontal",
            "min": 0,
            "description_tooltip": null,
            "_model_module": "@jupyter-widgets/controls",
            "layout": "IPY_MODEL_4686658ec6d64ce9a035cba409851cbd"
          }
        },
        "84a397f55ba14e029626554da45a4316": {
          "model_module": "@jupyter-widgets/controls",
          "model_name": "HTMLModel",
          "state": {
            "_view_name": "HTMLView",
            "style": "IPY_MODEL_104dcc0fa853490c8ce1efee976a83aa",
            "_dom_classes": [],
            "description": "",
            "_model_name": "HTMLModel",
            "placeholder": "​",
            "_view_module": "@jupyter-widgets/controls",
            "_model_module_version": "1.5.0",
            "value": " 658/658 [00:00&lt;00:00, 3.83kB/s]",
            "_view_count": null,
            "_view_module_version": "1.5.0",
            "description_tooltip": null,
            "_model_module": "@jupyter-widgets/controls",
            "layout": "IPY_MODEL_674f602bffa9450ca29af3914b12b22d"
          }
        },
        "1d1f658719384b08b00f7ad49f4019e9": {
          "model_module": "@jupyter-widgets/controls",
          "model_name": "ProgressStyleModel",
          "state": {
            "_view_name": "StyleView",
            "_model_name": "ProgressStyleModel",
            "description_width": "initial",
            "_view_module": "@jupyter-widgets/base",
            "_model_module_version": "1.5.0",
            "_view_count": null,
            "_view_module_version": "1.2.0",
            "bar_color": null,
            "_model_module": "@jupyter-widgets/controls"
          }
        },
        "4686658ec6d64ce9a035cba409851cbd": {
          "model_module": "@jupyter-widgets/base",
          "model_name": "LayoutModel",
          "state": {
            "_view_name": "LayoutView",
            "grid_template_rows": null,
            "right": null,
            "justify_content": null,
            "_view_module": "@jupyter-widgets/base",
            "overflow": null,
            "_model_module_version": "1.2.0",
            "_view_count": null,
            "flex_flow": null,
            "width": null,
            "min_width": null,
            "border": null,
            "align_items": null,
            "bottom": null,
            "_model_module": "@jupyter-widgets/base",
            "top": null,
            "grid_column": null,
            "overflow_y": null,
            "overflow_x": null,
            "grid_auto_flow": null,
            "grid_area": null,
            "grid_template_columns": null,
            "flex": null,
            "_model_name": "LayoutModel",
            "justify_items": null,
            "grid_row": null,
            "max_height": null,
            "align_content": null,
            "visibility": null,
            "align_self": null,
            "height": null,
            "min_height": null,
            "padding": null,
            "grid_auto_rows": null,
            "grid_gap": null,
            "max_width": null,
            "order": null,
            "_view_module_version": "1.2.0",
            "grid_template_areas": null,
            "object_position": null,
            "object_fit": null,
            "grid_auto_columns": null,
            "margin": null,
            "display": null,
            "left": null
          }
        },
        "104dcc0fa853490c8ce1efee976a83aa": {
          "model_module": "@jupyter-widgets/controls",
          "model_name": "DescriptionStyleModel",
          "state": {
            "_view_name": "StyleView",
            "_model_name": "DescriptionStyleModel",
            "description_width": "",
            "_view_module": "@jupyter-widgets/base",
            "_model_module_version": "1.5.0",
            "_view_count": null,
            "_view_module_version": "1.2.0",
            "_model_module": "@jupyter-widgets/controls"
          }
        },
        "674f602bffa9450ca29af3914b12b22d": {
          "model_module": "@jupyter-widgets/base",
          "model_name": "LayoutModel",
          "state": {
            "_view_name": "LayoutView",
            "grid_template_rows": null,
            "right": null,
            "justify_content": null,
            "_view_module": "@jupyter-widgets/base",
            "overflow": null,
            "_model_module_version": "1.2.0",
            "_view_count": null,
            "flex_flow": null,
            "width": null,
            "min_width": null,
            "border": null,
            "align_items": null,
            "bottom": null,
            "_model_module": "@jupyter-widgets/base",
            "top": null,
            "grid_column": null,
            "overflow_y": null,
            "overflow_x": null,
            "grid_auto_flow": null,
            "grid_area": null,
            "grid_template_columns": null,
            "flex": null,
            "_model_name": "LayoutModel",
            "justify_items": null,
            "grid_row": null,
            "max_height": null,
            "align_content": null,
            "visibility": null,
            "align_self": null,
            "height": null,
            "min_height": null,
            "padding": null,
            "grid_auto_rows": null,
            "grid_gap": null,
            "max_width": null,
            "order": null,
            "_view_module_version": "1.2.0",
            "grid_template_areas": null,
            "object_position": null,
            "object_fit": null,
            "grid_auto_columns": null,
            "margin": null,
            "display": null,
            "left": null
          }
        },
        "1612b92750154efc8a85d43bf00c3d71": {
          "model_module": "@jupyter-widgets/controls",
          "model_name": "HBoxModel",
          "state": {
            "_view_name": "HBoxView",
            "_dom_classes": [],
            "_model_name": "HBoxModel",
            "_view_module": "@jupyter-widgets/controls",
            "_model_module_version": "1.5.0",
            "_view_count": null,
            "_view_module_version": "1.5.0",
            "box_style": "",
            "layout": "IPY_MODEL_9cf8569fa52d4a48aa19234edb52e5a8",
            "_model_module": "@jupyter-widgets/controls",
            "children": [
              "IPY_MODEL_396518d7c5f4491eba44742848f2dda8",
              "IPY_MODEL_17ece3b413b64e1384d68142863ae9e5"
            ]
          }
        },
        "9cf8569fa52d4a48aa19234edb52e5a8": {
          "model_module": "@jupyter-widgets/base",
          "model_name": "LayoutModel",
          "state": {
            "_view_name": "LayoutView",
            "grid_template_rows": null,
            "right": null,
            "justify_content": null,
            "_view_module": "@jupyter-widgets/base",
            "overflow": null,
            "_model_module_version": "1.2.0",
            "_view_count": null,
            "flex_flow": null,
            "width": null,
            "min_width": null,
            "border": null,
            "align_items": null,
            "bottom": null,
            "_model_module": "@jupyter-widgets/base",
            "top": null,
            "grid_column": null,
            "overflow_y": null,
            "overflow_x": null,
            "grid_auto_flow": null,
            "grid_area": null,
            "grid_template_columns": null,
            "flex": null,
            "_model_name": "LayoutModel",
            "justify_items": null,
            "grid_row": null,
            "max_height": null,
            "align_content": null,
            "visibility": null,
            "align_self": null,
            "height": null,
            "min_height": null,
            "padding": null,
            "grid_auto_rows": null,
            "grid_gap": null,
            "max_width": null,
            "order": null,
            "_view_module_version": "1.2.0",
            "grid_template_areas": null,
            "object_position": null,
            "object_fit": null,
            "grid_auto_columns": null,
            "margin": null,
            "display": null,
            "left": null
          }
        },
        "396518d7c5f4491eba44742848f2dda8": {
          "model_module": "@jupyter-widgets/controls",
          "model_name": "FloatProgressModel",
          "state": {
            "_view_name": "ProgressView",
            "style": "IPY_MODEL_a5fdcf7714b0481f90b8cd03478cb982",
            "_dom_classes": [],
            "description": "Downloading: 100%",
            "_model_name": "FloatProgressModel",
            "bar_style": "success",
            "max": 242120,
            "_view_module": "@jupyter-widgets/controls",
            "_model_module_version": "1.5.0",
            "value": 242120,
            "_view_count": null,
            "_view_module_version": "1.5.0",
            "orientation": "horizontal",
            "min": 0,
            "description_tooltip": null,
            "_model_module": "@jupyter-widgets/controls",
            "layout": "IPY_MODEL_ffb4790f14bb4b48a2c15dd1d5507b25"
          }
        },
        "17ece3b413b64e1384d68142863ae9e5": {
          "model_module": "@jupyter-widgets/controls",
          "model_name": "HTMLModel",
          "state": {
            "_view_name": "HTMLView",
            "style": "IPY_MODEL_7748f72d5b694d04aad83189dee93341",
            "_dom_classes": [],
            "description": "",
            "_model_name": "HTMLModel",
            "placeholder": "​",
            "_view_module": "@jupyter-widgets/controls",
            "_model_module_version": "1.5.0",
            "value": " 242k/242k [00:01&lt;00:00, 182kB/s]",
            "_view_count": null,
            "_view_module_version": "1.5.0",
            "description_tooltip": null,
            "_model_module": "@jupyter-widgets/controls",
            "layout": "IPY_MODEL_8e331336603d48bb90ee857c6c1faf7a"
          }
        },
        "a5fdcf7714b0481f90b8cd03478cb982": {
          "model_module": "@jupyter-widgets/controls",
          "model_name": "ProgressStyleModel",
          "state": {
            "_view_name": "StyleView",
            "_model_name": "ProgressStyleModel",
            "description_width": "initial",
            "_view_module": "@jupyter-widgets/base",
            "_model_module_version": "1.5.0",
            "_view_count": null,
            "_view_module_version": "1.2.0",
            "bar_color": null,
            "_model_module": "@jupyter-widgets/controls"
          }
        },
        "ffb4790f14bb4b48a2c15dd1d5507b25": {
          "model_module": "@jupyter-widgets/base",
          "model_name": "LayoutModel",
          "state": {
            "_view_name": "LayoutView",
            "grid_template_rows": null,
            "right": null,
            "justify_content": null,
            "_view_module": "@jupyter-widgets/base",
            "overflow": null,
            "_model_module_version": "1.2.0",
            "_view_count": null,
            "flex_flow": null,
            "width": null,
            "min_width": null,
            "border": null,
            "align_items": null,
            "bottom": null,
            "_model_module": "@jupyter-widgets/base",
            "top": null,
            "grid_column": null,
            "overflow_y": null,
            "overflow_x": null,
            "grid_auto_flow": null,
            "grid_area": null,
            "grid_template_columns": null,
            "flex": null,
            "_model_name": "LayoutModel",
            "justify_items": null,
            "grid_row": null,
            "max_height": null,
            "align_content": null,
            "visibility": null,
            "align_self": null,
            "height": null,
            "min_height": null,
            "padding": null,
            "grid_auto_rows": null,
            "grid_gap": null,
            "max_width": null,
            "order": null,
            "_view_module_version": "1.2.0",
            "grid_template_areas": null,
            "object_position": null,
            "object_fit": null,
            "grid_auto_columns": null,
            "margin": null,
            "display": null,
            "left": null
          }
        },
        "7748f72d5b694d04aad83189dee93341": {
          "model_module": "@jupyter-widgets/controls",
          "model_name": "DescriptionStyleModel",
          "state": {
            "_view_name": "StyleView",
            "_model_name": "DescriptionStyleModel",
            "description_width": "",
            "_view_module": "@jupyter-widgets/base",
            "_model_module_version": "1.5.0",
            "_view_count": null,
            "_view_module_version": "1.2.0",
            "_model_module": "@jupyter-widgets/controls"
          }
        },
        "8e331336603d48bb90ee857c6c1faf7a": {
          "model_module": "@jupyter-widgets/base",
          "model_name": "LayoutModel",
          "state": {
            "_view_name": "LayoutView",
            "grid_template_rows": null,
            "right": null,
            "justify_content": null,
            "_view_module": "@jupyter-widgets/base",
            "overflow": null,
            "_model_module_version": "1.2.0",
            "_view_count": null,
            "flex_flow": null,
            "width": null,
            "min_width": null,
            "border": null,
            "align_items": null,
            "bottom": null,
            "_model_module": "@jupyter-widgets/base",
            "top": null,
            "grid_column": null,
            "overflow_y": null,
            "overflow_x": null,
            "grid_auto_flow": null,
            "grid_area": null,
            "grid_template_columns": null,
            "flex": null,
            "_model_name": "LayoutModel",
            "justify_items": null,
            "grid_row": null,
            "max_height": null,
            "align_content": null,
            "visibility": null,
            "align_self": null,
            "height": null,
            "min_height": null,
            "padding": null,
            "grid_auto_rows": null,
            "grid_gap": null,
            "max_width": null,
            "order": null,
            "_view_module_version": "1.2.0",
            "grid_template_areas": null,
            "object_position": null,
            "object_fit": null,
            "grid_auto_columns": null,
            "margin": null,
            "display": null,
            "left": null
          }
        },
        "0f224e6b633e4a35b0bc9c6c559a5cdd": {
          "model_module": "@jupyter-widgets/controls",
          "model_name": "HBoxModel",
          "state": {
            "_view_name": "HBoxView",
            "_dom_classes": [],
            "_model_name": "HBoxModel",
            "_view_module": "@jupyter-widgets/controls",
            "_model_module_version": "1.5.0",
            "_view_count": null,
            "_view_module_version": "1.5.0",
            "box_style": "",
            "layout": "IPY_MODEL_60a26dc36eaf49b094b4dc2b7fc18a37",
            "_model_module": "@jupyter-widgets/controls",
            "children": [
              "IPY_MODEL_80382f48ec364dc6870c45c5e5dcc7fc",
              "IPY_MODEL_6223b2ea25eb4ce2bff2fb70c15f341b"
            ]
          }
        },
        "60a26dc36eaf49b094b4dc2b7fc18a37": {
          "model_module": "@jupyter-widgets/base",
          "model_name": "LayoutModel",
          "state": {
            "_view_name": "LayoutView",
            "grid_template_rows": null,
            "right": null,
            "justify_content": null,
            "_view_module": "@jupyter-widgets/base",
            "overflow": null,
            "_model_module_version": "1.2.0",
            "_view_count": null,
            "flex_flow": null,
            "width": null,
            "min_width": null,
            "border": null,
            "align_items": null,
            "bottom": null,
            "_model_module": "@jupyter-widgets/base",
            "top": null,
            "grid_column": null,
            "overflow_y": null,
            "overflow_x": null,
            "grid_auto_flow": null,
            "grid_area": null,
            "grid_template_columns": null,
            "flex": null,
            "_model_name": "LayoutModel",
            "justify_items": null,
            "grid_row": null,
            "max_height": null,
            "align_content": null,
            "visibility": null,
            "align_self": null,
            "height": null,
            "min_height": null,
            "padding": null,
            "grid_auto_rows": null,
            "grid_gap": null,
            "max_width": null,
            "order": null,
            "_view_module_version": "1.2.0",
            "grid_template_areas": null,
            "object_position": null,
            "object_fit": null,
            "grid_auto_columns": null,
            "margin": null,
            "display": null,
            "left": null
          }
        },
        "80382f48ec364dc6870c45c5e5dcc7fc": {
          "model_module": "@jupyter-widgets/controls",
          "model_name": "FloatProgressModel",
          "state": {
            "_view_name": "ProgressView",
            "style": "IPY_MODEL_6ec59cb1745e45b0a4f797e69abe149c",
            "_dom_classes": [],
            "description": "Downloading: 100%",
            "_model_name": "FloatProgressModel",
            "bar_style": "success",
            "max": 112,
            "_view_module": "@jupyter-widgets/controls",
            "_model_module_version": "1.5.0",
            "value": 112,
            "_view_count": null,
            "_view_module_version": "1.5.0",
            "orientation": "horizontal",
            "min": 0,
            "description_tooltip": null,
            "_model_module": "@jupyter-widgets/controls",
            "layout": "IPY_MODEL_5a30107a4b9749a4ba70e9a1273cf9fb"
          }
        },
        "6223b2ea25eb4ce2bff2fb70c15f341b": {
          "model_module": "@jupyter-widgets/controls",
          "model_name": "HTMLModel",
          "state": {
            "_view_name": "HTMLView",
            "style": "IPY_MODEL_7bc6a4150cae4677b945fe0a3aeb6cc4",
            "_dom_classes": [],
            "description": "",
            "_model_name": "HTMLModel",
            "placeholder": "​",
            "_view_module": "@jupyter-widgets/controls",
            "_model_module_version": "1.5.0",
            "value": " 112/112 [00:00&lt;00:00, 241B/s]",
            "_view_count": null,
            "_view_module_version": "1.5.0",
            "description_tooltip": null,
            "_model_module": "@jupyter-widgets/controls",
            "layout": "IPY_MODEL_94bf87e2026647798199ba6f053a625b"
          }
        },
        "6ec59cb1745e45b0a4f797e69abe149c": {
          "model_module": "@jupyter-widgets/controls",
          "model_name": "ProgressStyleModel",
          "state": {
            "_view_name": "StyleView",
            "_model_name": "ProgressStyleModel",
            "description_width": "initial",
            "_view_module": "@jupyter-widgets/base",
            "_model_module_version": "1.5.0",
            "_view_count": null,
            "_view_module_version": "1.2.0",
            "bar_color": null,
            "_model_module": "@jupyter-widgets/controls"
          }
        },
        "5a30107a4b9749a4ba70e9a1273cf9fb": {
          "model_module": "@jupyter-widgets/base",
          "model_name": "LayoutModel",
          "state": {
            "_view_name": "LayoutView",
            "grid_template_rows": null,
            "right": null,
            "justify_content": null,
            "_view_module": "@jupyter-widgets/base",
            "overflow": null,
            "_model_module_version": "1.2.0",
            "_view_count": null,
            "flex_flow": null,
            "width": null,
            "min_width": null,
            "border": null,
            "align_items": null,
            "bottom": null,
            "_model_module": "@jupyter-widgets/base",
            "top": null,
            "grid_column": null,
            "overflow_y": null,
            "overflow_x": null,
            "grid_auto_flow": null,
            "grid_area": null,
            "grid_template_columns": null,
            "flex": null,
            "_model_name": "LayoutModel",
            "justify_items": null,
            "grid_row": null,
            "max_height": null,
            "align_content": null,
            "visibility": null,
            "align_self": null,
            "height": null,
            "min_height": null,
            "padding": null,
            "grid_auto_rows": null,
            "grid_gap": null,
            "max_width": null,
            "order": null,
            "_view_module_version": "1.2.0",
            "grid_template_areas": null,
            "object_position": null,
            "object_fit": null,
            "grid_auto_columns": null,
            "margin": null,
            "display": null,
            "left": null
          }
        },
        "7bc6a4150cae4677b945fe0a3aeb6cc4": {
          "model_module": "@jupyter-widgets/controls",
          "model_name": "DescriptionStyleModel",
          "state": {
            "_view_name": "StyleView",
            "_model_name": "DescriptionStyleModel",
            "description_width": "",
            "_view_module": "@jupyter-widgets/base",
            "_model_module_version": "1.5.0",
            "_view_count": null,
            "_view_module_version": "1.2.0",
            "_model_module": "@jupyter-widgets/controls"
          }
        },
        "94bf87e2026647798199ba6f053a625b": {
          "model_module": "@jupyter-widgets/base",
          "model_name": "LayoutModel",
          "state": {
            "_view_name": "LayoutView",
            "grid_template_rows": null,
            "right": null,
            "justify_content": null,
            "_view_module": "@jupyter-widgets/base",
            "overflow": null,
            "_model_module_version": "1.2.0",
            "_view_count": null,
            "flex_flow": null,
            "width": null,
            "min_width": null,
            "border": null,
            "align_items": null,
            "bottom": null,
            "_model_module": "@jupyter-widgets/base",
            "top": null,
            "grid_column": null,
            "overflow_y": null,
            "overflow_x": null,
            "grid_auto_flow": null,
            "grid_area": null,
            "grid_template_columns": null,
            "flex": null,
            "_model_name": "LayoutModel",
            "justify_items": null,
            "grid_row": null,
            "max_height": null,
            "align_content": null,
            "visibility": null,
            "align_self": null,
            "height": null,
            "min_height": null,
            "padding": null,
            "grid_auto_rows": null,
            "grid_gap": null,
            "max_width": null,
            "order": null,
            "_view_module_version": "1.2.0",
            "grid_template_areas": null,
            "object_position": null,
            "object_fit": null,
            "grid_auto_columns": null,
            "margin": null,
            "display": null,
            "left": null
          }
        },
        "137011ed48d34acfbe5f02c43523ff3e": {
          "model_module": "@jupyter-widgets/controls",
          "model_name": "HBoxModel",
          "state": {
            "_view_name": "HBoxView",
            "_dom_classes": [],
            "_model_name": "HBoxModel",
            "_view_module": "@jupyter-widgets/controls",
            "_model_module_version": "1.5.0",
            "_view_count": null,
            "_view_module_version": "1.5.0",
            "box_style": "",
            "layout": "IPY_MODEL_cb117d162f2046c9ba33b968ed05af78",
            "_model_module": "@jupyter-widgets/controls",
            "children": [
              "IPY_MODEL_6d91e514530142b1801fe1ffce604d98",
              "IPY_MODEL_34f11d6ebf2d402680480801a172d949"
            ]
          }
        },
        "cb117d162f2046c9ba33b968ed05af78": {
          "model_module": "@jupyter-widgets/base",
          "model_name": "LayoutModel",
          "state": {
            "_view_name": "LayoutView",
            "grid_template_rows": null,
            "right": null,
            "justify_content": null,
            "_view_module": "@jupyter-widgets/base",
            "overflow": null,
            "_model_module_version": "1.2.0",
            "_view_count": null,
            "flex_flow": null,
            "width": null,
            "min_width": null,
            "border": null,
            "align_items": null,
            "bottom": null,
            "_model_module": "@jupyter-widgets/base",
            "top": null,
            "grid_column": null,
            "overflow_y": null,
            "overflow_x": null,
            "grid_auto_flow": null,
            "grid_area": null,
            "grid_template_columns": null,
            "flex": null,
            "_model_name": "LayoutModel",
            "justify_items": null,
            "grid_row": null,
            "max_height": null,
            "align_content": null,
            "visibility": null,
            "align_self": null,
            "height": null,
            "min_height": null,
            "padding": null,
            "grid_auto_rows": null,
            "grid_gap": null,
            "max_width": null,
            "order": null,
            "_view_module_version": "1.2.0",
            "grid_template_areas": null,
            "object_position": null,
            "object_fit": null,
            "grid_auto_columns": null,
            "margin": null,
            "display": null,
            "left": null
          }
        },
        "6d91e514530142b1801fe1ffce604d98": {
          "model_module": "@jupyter-widgets/controls",
          "model_name": "FloatProgressModel",
          "state": {
            "_view_name": "ProgressView",
            "style": "IPY_MODEL_43cba82553424ee2b81afcacde1396e2",
            "_dom_classes": [],
            "description": "Downloading: 100%",
            "_model_name": "FloatProgressModel",
            "bar_style": "success",
            "max": 253,
            "_view_module": "@jupyter-widgets/controls",
            "_model_module_version": "1.5.0",
            "value": 253,
            "_view_count": null,
            "_view_module_version": "1.5.0",
            "orientation": "horizontal",
            "min": 0,
            "description_tooltip": null,
            "_model_module": "@jupyter-widgets/controls",
            "layout": "IPY_MODEL_9937d60efb3a47988cdde7204d7a07cf"
          }
        },
        "34f11d6ebf2d402680480801a172d949": {
          "model_module": "@jupyter-widgets/controls",
          "model_name": "HTMLModel",
          "state": {
            "_view_name": "HTMLView",
            "style": "IPY_MODEL_c819bb689fc049fa83bb70dc005f43d6",
            "_dom_classes": [],
            "description": "",
            "_model_name": "HTMLModel",
            "placeholder": "​",
            "_view_module": "@jupyter-widgets/controls",
            "_model_module_version": "1.5.0",
            "value": " 253/253 [00:00&lt;00:00, 969B/s]",
            "_view_count": null,
            "_view_module_version": "1.5.0",
            "description_tooltip": null,
            "_model_module": "@jupyter-widgets/controls",
            "layout": "IPY_MODEL_9779a46623734a1796409477c7011aa9"
          }
        },
        "43cba82553424ee2b81afcacde1396e2": {
          "model_module": "@jupyter-widgets/controls",
          "model_name": "ProgressStyleModel",
          "state": {
            "_view_name": "StyleView",
            "_model_name": "ProgressStyleModel",
            "description_width": "initial",
            "_view_module": "@jupyter-widgets/base",
            "_model_module_version": "1.5.0",
            "_view_count": null,
            "_view_module_version": "1.2.0",
            "bar_color": null,
            "_model_module": "@jupyter-widgets/controls"
          }
        },
        "9937d60efb3a47988cdde7204d7a07cf": {
          "model_module": "@jupyter-widgets/base",
          "model_name": "LayoutModel",
          "state": {
            "_view_name": "LayoutView",
            "grid_template_rows": null,
            "right": null,
            "justify_content": null,
            "_view_module": "@jupyter-widgets/base",
            "overflow": null,
            "_model_module_version": "1.2.0",
            "_view_count": null,
            "flex_flow": null,
            "width": null,
            "min_width": null,
            "border": null,
            "align_items": null,
            "bottom": null,
            "_model_module": "@jupyter-widgets/base",
            "top": null,
            "grid_column": null,
            "overflow_y": null,
            "overflow_x": null,
            "grid_auto_flow": null,
            "grid_area": null,
            "grid_template_columns": null,
            "flex": null,
            "_model_name": "LayoutModel",
            "justify_items": null,
            "grid_row": null,
            "max_height": null,
            "align_content": null,
            "visibility": null,
            "align_self": null,
            "height": null,
            "min_height": null,
            "padding": null,
            "grid_auto_rows": null,
            "grid_gap": null,
            "max_width": null,
            "order": null,
            "_view_module_version": "1.2.0",
            "grid_template_areas": null,
            "object_position": null,
            "object_fit": null,
            "grid_auto_columns": null,
            "margin": null,
            "display": null,
            "left": null
          }
        },
        "c819bb689fc049fa83bb70dc005f43d6": {
          "model_module": "@jupyter-widgets/controls",
          "model_name": "DescriptionStyleModel",
          "state": {
            "_view_name": "StyleView",
            "_model_name": "DescriptionStyleModel",
            "description_width": "",
            "_view_module": "@jupyter-widgets/base",
            "_model_module_version": "1.5.0",
            "_view_count": null,
            "_view_module_version": "1.2.0",
            "_model_module": "@jupyter-widgets/controls"
          }
        },
        "9779a46623734a1796409477c7011aa9": {
          "model_module": "@jupyter-widgets/base",
          "model_name": "LayoutModel",
          "state": {
            "_view_name": "LayoutView",
            "grid_template_rows": null,
            "right": null,
            "justify_content": null,
            "_view_module": "@jupyter-widgets/base",
            "overflow": null,
            "_model_module_version": "1.2.0",
            "_view_count": null,
            "flex_flow": null,
            "width": null,
            "min_width": null,
            "border": null,
            "align_items": null,
            "bottom": null,
            "_model_module": "@jupyter-widgets/base",
            "top": null,
            "grid_column": null,
            "overflow_y": null,
            "overflow_x": null,
            "grid_auto_flow": null,
            "grid_area": null,
            "grid_template_columns": null,
            "flex": null,
            "_model_name": "LayoutModel",
            "justify_items": null,
            "grid_row": null,
            "max_height": null,
            "align_content": null,
            "visibility": null,
            "align_self": null,
            "height": null,
            "min_height": null,
            "padding": null,
            "grid_auto_rows": null,
            "grid_gap": null,
            "max_width": null,
            "order": null,
            "_view_module_version": "1.2.0",
            "grid_template_areas": null,
            "object_position": null,
            "object_fit": null,
            "grid_auto_columns": null,
            "margin": null,
            "display": null,
            "left": null
          }
        },
        "8eae9fda4c3c4e22ab17e4caef0f8f0f": {
          "model_module": "@jupyter-widgets/controls",
          "model_name": "HBoxModel",
          "state": {
            "_view_name": "HBoxView",
            "_dom_classes": [],
            "_model_name": "HBoxModel",
            "_view_module": "@jupyter-widgets/controls",
            "_model_module_version": "1.5.0",
            "_view_count": null,
            "_view_module_version": "1.5.0",
            "box_style": "",
            "layout": "IPY_MODEL_1e285804bb8d436e89fb9d78a991933a",
            "_model_module": "@jupyter-widgets/controls",
            "children": [
              "IPY_MODEL_cf4893e47cd3472296bcfd5d8981a197",
              "IPY_MODEL_3243353efda5415cbfec4c3ed5d5e0c7"
            ]
          }
        },
        "1e285804bb8d436e89fb9d78a991933a": {
          "model_module": "@jupyter-widgets/base",
          "model_name": "LayoutModel",
          "state": {
            "_view_name": "LayoutView",
            "grid_template_rows": null,
            "right": null,
            "justify_content": null,
            "_view_module": "@jupyter-widgets/base",
            "overflow": null,
            "_model_module_version": "1.2.0",
            "_view_count": null,
            "flex_flow": null,
            "width": null,
            "min_width": null,
            "border": null,
            "align_items": null,
            "bottom": null,
            "_model_module": "@jupyter-widgets/base",
            "top": null,
            "grid_column": null,
            "overflow_y": null,
            "overflow_x": null,
            "grid_auto_flow": null,
            "grid_area": null,
            "grid_template_columns": null,
            "flex": null,
            "_model_name": "LayoutModel",
            "justify_items": null,
            "grid_row": null,
            "max_height": null,
            "align_content": null,
            "visibility": null,
            "align_self": null,
            "height": null,
            "min_height": null,
            "padding": null,
            "grid_auto_rows": null,
            "grid_gap": null,
            "max_width": null,
            "order": null,
            "_view_module_version": "1.2.0",
            "grid_template_areas": null,
            "object_position": null,
            "object_fit": null,
            "grid_auto_columns": null,
            "margin": null,
            "display": null,
            "left": null
          }
        },
        "cf4893e47cd3472296bcfd5d8981a197": {
          "model_module": "@jupyter-widgets/controls",
          "model_name": "FloatProgressModel",
          "state": {
            "_view_name": "ProgressView",
            "style": "IPY_MODEL_c6f928ddb439475fb2da2e18c057dcab",
            "_dom_classes": [],
            "description": "Downloading: 100%",
            "_model_name": "FloatProgressModel",
            "bar_style": "success",
            "max": 439465385,
            "_view_module": "@jupyter-widgets/controls",
            "_model_module_version": "1.5.0",
            "value": 439465385,
            "_view_count": null,
            "_view_module_version": "1.5.0",
            "orientation": "horizontal",
            "min": 0,
            "description_tooltip": null,
            "_model_module": "@jupyter-widgets/controls",
            "layout": "IPY_MODEL_1a8f1379d7ef4bd79267a26fae6e9328"
          }
        },
        "3243353efda5415cbfec4c3ed5d5e0c7": {
          "model_module": "@jupyter-widgets/controls",
          "model_name": "HTMLModel",
          "state": {
            "_view_name": "HTMLView",
            "style": "IPY_MODEL_0c122e0f6bc740048f47e94fc2589c61",
            "_dom_classes": [],
            "description": "",
            "_model_name": "HTMLModel",
            "placeholder": "​",
            "_view_module": "@jupyter-widgets/controls",
            "_model_module_version": "1.5.0",
            "value": " 439M/439M [00:12&lt;00:00, 33.8MB/s]",
            "_view_count": null,
            "_view_module_version": "1.5.0",
            "description_tooltip": null,
            "_model_module": "@jupyter-widgets/controls",
            "layout": "IPY_MODEL_441ce32c20fd4f8ba17e32a8f88104ca"
          }
        },
        "c6f928ddb439475fb2da2e18c057dcab": {
          "model_module": "@jupyter-widgets/controls",
          "model_name": "ProgressStyleModel",
          "state": {
            "_view_name": "StyleView",
            "_model_name": "ProgressStyleModel",
            "description_width": "initial",
            "_view_module": "@jupyter-widgets/base",
            "_model_module_version": "1.5.0",
            "_view_count": null,
            "_view_module_version": "1.2.0",
            "bar_color": null,
            "_model_module": "@jupyter-widgets/controls"
          }
        },
        "1a8f1379d7ef4bd79267a26fae6e9328": {
          "model_module": "@jupyter-widgets/base",
          "model_name": "LayoutModel",
          "state": {
            "_view_name": "LayoutView",
            "grid_template_rows": null,
            "right": null,
            "justify_content": null,
            "_view_module": "@jupyter-widgets/base",
            "overflow": null,
            "_model_module_version": "1.2.0",
            "_view_count": null,
            "flex_flow": null,
            "width": null,
            "min_width": null,
            "border": null,
            "align_items": null,
            "bottom": null,
            "_model_module": "@jupyter-widgets/base",
            "top": null,
            "grid_column": null,
            "overflow_y": null,
            "overflow_x": null,
            "grid_auto_flow": null,
            "grid_area": null,
            "grid_template_columns": null,
            "flex": null,
            "_model_name": "LayoutModel",
            "justify_items": null,
            "grid_row": null,
            "max_height": null,
            "align_content": null,
            "visibility": null,
            "align_self": null,
            "height": null,
            "min_height": null,
            "padding": null,
            "grid_auto_rows": null,
            "grid_gap": null,
            "max_width": null,
            "order": null,
            "_view_module_version": "1.2.0",
            "grid_template_areas": null,
            "object_position": null,
            "object_fit": null,
            "grid_auto_columns": null,
            "margin": null,
            "display": null,
            "left": null
          }
        },
        "0c122e0f6bc740048f47e94fc2589c61": {
          "model_module": "@jupyter-widgets/controls",
          "model_name": "DescriptionStyleModel",
          "state": {
            "_view_name": "StyleView",
            "_model_name": "DescriptionStyleModel",
            "description_width": "",
            "_view_module": "@jupyter-widgets/base",
            "_model_module_version": "1.5.0",
            "_view_count": null,
            "_view_module_version": "1.2.0",
            "_model_module": "@jupyter-widgets/controls"
          }
        },
        "441ce32c20fd4f8ba17e32a8f88104ca": {
          "model_module": "@jupyter-widgets/base",
          "model_name": "LayoutModel",
          "state": {
            "_view_name": "LayoutView",
            "grid_template_rows": null,
            "right": null,
            "justify_content": null,
            "_view_module": "@jupyter-widgets/base",
            "overflow": null,
            "_model_module_version": "1.2.0",
            "_view_count": null,
            "flex_flow": null,
            "width": null,
            "min_width": null,
            "border": null,
            "align_items": null,
            "bottom": null,
            "_model_module": "@jupyter-widgets/base",
            "top": null,
            "grid_column": null,
            "overflow_y": null,
            "overflow_x": null,
            "grid_auto_flow": null,
            "grid_area": null,
            "grid_template_columns": null,
            "flex": null,
            "_model_name": "LayoutModel",
            "justify_items": null,
            "grid_row": null,
            "max_height": null,
            "align_content": null,
            "visibility": null,
            "align_self": null,
            "height": null,
            "min_height": null,
            "padding": null,
            "grid_auto_rows": null,
            "grid_gap": null,
            "max_width": null,
            "order": null,
            "_view_module_version": "1.2.0",
            "grid_template_areas": null,
            "object_position": null,
            "object_fit": null,
            "grid_auto_columns": null,
            "margin": null,
            "display": null,
            "left": null
          }
        }
      }
    }
  },
  "cells": [
    {
      "cell_type": "markdown",
      "metadata": {
        "id": "view-in-github",
        "colab_type": "text"
      },
      "source": [
        "<a href=\"https://colab.research.google.com/github/yvid27/NLP/blob/main/2021SPDL_SentimentA.ipynb\" target=\"_parent\"><img src=\"https://colab.research.google.com/assets/colab-badge.svg\" alt=\"Open In Colab\"/></a>"
      ]
    },
    {
      "cell_type": "markdown",
      "metadata": {
        "id": "65Ur3udAP258"
      },
      "source": [
        "# **Sentiment Analysis**\n",
        "---"
      ]
    },
    {
      "cell_type": "markdown",
      "metadata": {
        "id": "y-iD_vWZPuJW"
      },
      "source": [
        "# Import the packages"
      ]
    },
    {
      "cell_type": "code",
      "metadata": {
        "id": "2ktMj1NQGbAh",
        "colab": {
          "base_uri": "https://localhost:8080/"
        },
        "outputId": "8c982e22-6baa-4b47-babc-9c0233f0a343"
      },
      "source": [
        "#help split and get cleaning work done\n",
        "import pandas as pd \n",
        "#search of patterns\n",
        "import re\n",
        "# start the analysis\n",
        "import tweepy \n",
        "from tweepy import OAuthHandler\n",
        "from textblob import TextBlob\n",
        "import nltk\n",
        "from nltk.sentiment.vader import SentimentIntensityAnalyzer"
      ],
      "execution_count": null,
      "outputs": [
        {
          "output_type": "stream",
          "text": [
            "/usr/local/lib/python3.6/dist-packages/nltk/twitter/__init__.py:20: UserWarning: The twython library has not been installed. Some functionality from the twitter package will not be available.\n",
            "  warnings.warn(\"The twython library has not been installed. \"\n"
          ],
          "name": "stderr"
        }
      ]
    },
    {
      "cell_type": "markdown",
      "metadata": {
        "id": "24V0d8gPPk_6"
      },
      "source": [
        "## Simple example with TextBlob\n",
        "processing textual data (text analysis)\n",
        "\n",
        "Polarity\n",
        "\n",
        "      -1_______________+1   \n",
        "    Negative       Positive\n",
        "\n",
        "Subjectivity\n",
        "\n",
        "      0________________+1   \n",
        "    Objective       Subjective"
      ]
    },
    {
      "cell_type": "code",
      "metadata": {
        "id": "CChY3iuNIyC6",
        "colab": {
          "base_uri": "https://localhost:8080/"
        },
        "outputId": "ccb926d0-2168-4ec8-9831-b92c80cb9c87"
      },
      "source": [
        "comment = 'This is one of the most beautiful films I have ever seen.'\n",
        "blob =TextBlob(comment)\n",
        "print(blob.sentiment)\n",
        "\n",
        "TextBlob('The movie is ultimately unsatisfying.').sentiment"
      ],
      "execution_count": null,
      "outputs": [
        {
          "output_type": "stream",
          "text": [
            "Sentiment(polarity=0.675, subjectivity=0.75)\n"
          ],
          "name": "stdout"
        },
        {
          "output_type": "execute_result",
          "data": {
            "text/plain": [
              "Sentiment(polarity=0.0, subjectivity=1.0)"
            ]
          },
          "metadata": {
            "tags": []
          },
          "execution_count": 4
        }
      ]
    },
    {
      "cell_type": "markdown",
      "metadata": {
        "id": "SVtI7lwjQbgi"
      },
      "source": [
        "## Authenticate into twitter\n",
        "\n",
        "You need create an app on Twitter Developers, to get access to twitter data (keys).\n",
        "\n",
        "The following code is to get authenticate into twitter and query you need for user or hastag using the keys provided, pandas will get those tweets into our data frame\n",
        "\n"
      ]
    },
    {
      "cell_type": "code",
      "metadata": {
        "id": "80YP_yhmHdGr"
      },
      "source": [
        "consumer_key = '2j7zlY8L7aBtQQbcpZ17eakKW'\n",
        "consumer_secret = 'AuMN6liunUHhZ1eIRU80yygNwow2SOrdP5Q869K3WwNvDW8qyP'\n",
        "access_token = '919789564331462656-pLvj8G4PM5qgKTZ5b4MngHb5kgiEpzm'\n",
        "access_token_secret = 'oeCEphVTtX04zo0dSO08ScApOL0s0fSr9RC5EgEyGvr3S'\n",
        "\n",
        "\n",
        "auth = OAuthHandler(consumer_key, consumer_secret) \n",
        "# set access token and secret \n",
        "auth.set_access_token(access_token, access_token_secret) \n",
        "# create tweepy API object to fetch tweets \n",
        "api = tweepy.API(auth) "
      ],
      "execution_count": null,
      "outputs": []
    },
    {
      "cell_type": "markdown",
      "metadata": {
        "id": "lBVwKpjpRmJy"
      },
      "source": [
        "## Determinate requirement\n",
        "\n",
        "In this case is \"climate change\""
      ]
    },
    {
      "cell_type": "code",
      "metadata": {
        "id": "w7knc7GVPEcb",
        "colab": {
          "base_uri": "https://localhost:8080/"
        },
        "outputId": "b1780e34-4baa-4100-e66c-cf005f3a738c"
      },
      "source": [
        "tweets = api.search('climate change', count=200)\n",
        "for tweet in tweets:\n",
        "    print(tweet.text)"
      ],
      "execution_count": null,
      "outputs": [
        {
          "output_type": "stream",
          "text": [
            "@jormorenod @robin_mavrick @SkyNewsAust @PaulineHansonOz @linessue Jorge thanks for the history lesson. But using t… https://t.co/2ie5pgztMB\n",
            "RT @ANUmedia: Stopping climate change requires urgent use of science ☀️🔥🌀🌊👩‍🔬👨‍🔬 That's what @VC_ANU and Nobel laureate Brian Schmidt has t…\n",
            "RT @SenSchumer: We must hold Russia accountable for malicious interference in democracies\n",
            "\n",
            "We must confront China’s economic, political, an…\n",
            "RT @banj0toad: weapons as in literal weapons but mainly weapons as in irreversible climate change and fascism and its results\n",
            "RT @sunrisemvmt: The twin crises of COVID and climate change know no political sides, they simply demand solutions.\n",
            "\n",
            "If the Republican Part…\n",
            "@usqueadmortem1 @EdtheSock The hypocrites at Davos have discovered ideas to kick the capitalist can down the road.… https://t.co/DhysBKSD6P\n",
            "RT @wef: What to know about how to save the planet #DavosAgenda https://t.co/6KB0EWWYpq https://t.co/x65Vjbzszd\n",
            "RT @ndcpartnership: Mongolia is leveraging support through our Climate Action Enhancement Package to achieve its 2030 emission reduction ta…\n",
            "RT @AmyThunig: Okay but hear me out, it’s an election year, imagine politicians with backbone rising up right now...committing to action on…\n",
            "RT @patagonia: Around the world, Indigenous communities are leading the fight against climate change and the destruction of nature. By resp…\n",
            "RT @sole24ore: Dal manifatturiero all’ambiente, Biden spinge su Buy American e lotta al climate change https://t.co/RIuCobsrHJ https://t.co…\n",
            "There are 2 ways fight climate change and Covid\n",
            "UK half measures over 100,000 dead\n",
            "New Zealand full assault on Covi… https://t.co/yhHtSPWRiE\n",
            "RT @fairewinds: In 2012, we published a book that discussed the need for significant investment in renewables! “In order for Japan to meet…\n",
            "RT @KTrebeck: This could be game changing: \"@BCAcomau representing mining, retail, manufacturing, banking &amp; energy bosses has formally back…\n",
            "RT @350: ICYMI: 153 world leaders make the case: U.S. President @JoeBiden can—and must— lead a transformative effort in the fight against c…\n",
            "RT @AmyThunig: Okay but hear me out, it’s an election year, imagine politicians with backbone rising up right now...committing to action on…\n",
            "RT @adamlmorton: Couple of interesting things about this story:\n",
            "- The govt's inaction on climate is such that the BCA is supporting a priva…\n",
            "RT @KidsCoding: The #microbit powered Climate Action Kit from our friends @InkSmith3D is a great way for kids to get hands on with code and…\n",
            "Which is why, in part, have found the restrictions so devastating\n",
            "\n",
            "Feel that the tools we have to actually make pos… https://t.co/QishyWVePN\n",
            "RT @Oilfield_Rando: If you’re puzzled by this, let me explain:\n",
            "\n",
            "Climate change gives them control over everything in your life. Everything.…\n",
            "RT @ahofschneider: A new report says the Commonwealth of the Northern Mariana Islands is expected to suffer worsening typhoons as climate c…\n",
            "RT @realTylerZed: The best part about the “climate change policies” is that we damn near shut the world down for a year, reducing carbon em…\n",
            "RT @KHayhoe: I'm so convinced of this that I've spent the last year reading dozens of books on everything from philosophy to neuroscience &amp;…\n",
            "RT @350: ICYMI: 153 world leaders make the case: U.S. President @JoeBiden can—and must— lead a transformative effort in the fight against c…\n",
            "How long until Canada is under CCP's 'one child' policy? Or no sibling's policy?\n",
            "\n",
            "You know, for climate change.\n",
            "RT @UNFCCC: Climate Change affects us all, but hits some of us harder than others. One focus of the Global #AdaptationSummit has been #Clim…\n",
            "Berejiklian: “All of us should follow the experts” \n",
            "\n",
            "GREAT! Now do climate change next https://t.co/YRCFY0vn61\n",
            "https://t.co/NtRdplaoOg\n",
            "@BarryVictor5 @SenSchumer is secret vote an option? Great interview w @maddow Thank you for your leadership and com… https://t.co/wJCoqKBO1o\n",
            "RT @SBSNews: Extreme weather events linked to climate change could cost the Australian economy $100 billion every year in the not-too-dista…\n",
            "RT @SenSchumer: We must hold Russia accountable for malicious interference in democracies\n",
            "\n",
            "We must confront China’s economic, political, an…\n",
            "RT @ProudSocialist: “Rate of loss is now in line with worst-case scenarios of the Intergovernmental Panel on Climate Change.”\n",
            "\n",
            "How are capi…\n",
            "RT @ProudSocialist: “Rate of loss is now in line with worst-case scenarios of the Intergovernmental Panel on Climate Change.”\n",
            "\n",
            "How are capi…\n",
            "RT @Ellen_Alves: estamos chiques demais! \n",
            "na próxima sexta-feira, 29, tem @ambiafro no human rights &amp; climate change 💅🏾\n",
            "RT @FLIxrisk: @BulletinAtomic will be announcing the 2021 time of the Doomsday Clock tomorrow. The “Clock has become a universally recognis…\n",
            "RT @BeauTFC: Let's talk about controlling the narrative on climate change....\n",
            "\n",
            "https://t.co/01vre2zgBI\n",
            "RT @patagonia: Around the world, Indigenous communities are leading the fight against climate change and the destruction of nature. By resp…\n",
            "RT @nikolajcw: https://t.co/8H7D7d8kbn\n",
            "RT @camanpour: “We fundamentally need the fossil fuel industry to disappear,” says climate change expert @MichaelEMann, but in a managed, r…\n",
            "RT @RanaAwdish: Me: how was school? \n",
            "Kid: we are studying climate change and it’s more questions than answers honestly. \n",
            "Me: maybe they are…\n",
            "RT @Oilfield_Rando: If you’re puzzled by this, let me explain:\n",
            "\n",
            "Climate change gives them control over everything in your life. Everything.…\n",
            "@ClimateEnvoy @SecBlinken @POTUS Hear hear! Look forward to working with you both on water security / climate change adaptation.\n",
            "RT @bgci: Tree planting is a brilliant solution to tackle climate change and protect biodiversity, but the wrong tree in the wrong place ca…\n",
            "RT @AZHistSociety: Increasingly, my research and teaching has revolved around this image.  How can we understand and explain not only how c…\n",
            "RT @babadookspinoza: We should be asking every day why we are currently causing a global mass extinction event and hurtling towards catastr…\n",
            "RT @greywan: @gardener_inc @CAEparentCMC @WarriorZoltar @SuperDuperSJW The same \"scientists\" that used to deny tobacco was carcinogenic now…\n",
            "“Also, I’m asking you to fix climate change. We can do it, probably in two weeks. It’s all up to you. Be kind!”… https://t.co/t4TJLdDuJJ\n",
            "RT @akin_adesina: I was honored to speak with world leaders on Africa’s needs at the Climate Adaptation Summit yesterday. We will forge str…\n",
            "Congratulations @SecBlinken on your confirmation. @GlblCtzn looks forward to American leadership on ending the pand… https://t.co/EHH9uNXgoB\n",
            "RT @ecomanda: \"Why can’t we unite behind climate change the same way that we united behind Covid-19?” - @ss4cnz https://t.co/tmIbdHcblR\n",
            "RT @drlouisehansen: I am an Australian. The Australian Government should do more for climate change. Retweet if you agree. Let’s let the wo…\n",
            "@WarriorZoltar @buffaloon Yesterday I watched the @novapbs program about Climate Change. I recommend it to everyone… https://t.co/JynYxYV0Kd\n",
            "RT @Greenpeace: Hotter #cities could be catastrophic for public health.\n",
            "\n",
            "We need to rethink urban space and get to work on #ClimateAction.…\n",
            "RT @YaleClimateComm: Dramatic temperature swings and irregular seasonal transitions are increasingly common in the #HudsonValley. The @rive…\n",
            "RT @POTUS: I spoke today with German Chancellor Merkel, conveying my commitment to multilateralism, the transatlantic alliance, and close c…\n",
            "This is absolutely correct.\n",
            "\n",
            "We see the effects of truth decay everywhere.\n",
            "\n",
            "A partisan pandemic.\n",
            "Anti-vaxx &amp; QAnon.… https://t.co/wDdxiDVQql\n",
            "@TheCons42715998 @BrookeOz3 @mr_vacman @nytimes Lmao. “Climate change is a farce”. Shit I figured you were delusion… https://t.co/q3rFuzqr4h\n",
            "RT @Abs_NBC: .@ClimateEnvoy John Kerry apologizes for U.S. absence from climate debate in recent years @OurOcean summit; says U.S. re-enter…\n",
            "RT @earthnewszim: @healthcom_Zim @WHO_Zimbabwe @healthtimeszim @MoHCCZim\n",
            "@lmsibanda @andile_tshuma @hut_green @ndlikizane\n",
            "\n",
            "Hotter cities co…\n",
            "RT @KHayhoe: Every year, I add 2 new low-carbon habits to my life. But every DAY, I do the most impt thing anyone can to do change the syst…\n",
            "RT @SarahEMyhre: Here’s the other truth: you can teach people about climate change without spreading your trauma and pain around. It IS pos…\n",
            "RT @SenSchumer: We must hold Russia accountable for malicious interference in democracies\n",
            "\n",
            "We must confront China’s economic, political, an…\n",
            "RT @sole24ore: Dal manifatturiero all’ambiente, Biden spinge su Buy American e lotta al climate change https://t.co/RIuCobsrHJ https://t.co…\n",
            "RT @ahofschneider: A new report says the Commonwealth of the Northern Mariana Islands is expected to suffer worsening typhoons as climate c…\n",
            "RT @Sandboy39: Larry Fink to CEOs: Climate risk is investment risk https://t.co/qmAKVHKrpy\n",
            "RT @POTUS: I spoke today with German Chancellor Merkel, conveying my commitment to multilateralism, the transatlantic alliance, and close c…\n",
            "RT @POTUS: I spoke today with German Chancellor Merkel, conveying my commitment to multilateralism, the transatlantic alliance, and close c…\n",
            "RT @SenSchumer: We must hold Russia accountable for malicious interference in democracies\n",
            "\n",
            "We must confront China’s economic, political, an…\n",
            "RT @allatraclimate: \"🔗Follow the link in bio to see all climate projects of the 🌐 ALLATRA International Public Movement and download report…\n",
            "hmmm pengen diskusi in-depth soal climate change hmmm\n",
            "RT @BitterWaterBlue: Media tip: if your story on Biden's oil leasing ban will feature interviews w/ oil field workers in Wyoming, it absolu…\n",
            "@DaveSharma Australia should take note. And practice what it preaches. And change the way it responds to our Pacifi… https://t.co/STn3HaSzdw\n",
            "RT @sunrisemvmt: The twin crises of COVID and climate change know no political sides, they simply demand solutions.\n",
            "\n",
            "If the Republican Part…\n",
            "RT @greywan: @gardener_inc @CAEparentCMC @WarriorZoltar @SuperDuperSJW The same \"scientists\" that used to deny tobacco was carcinogenic now…\n",
            "RT @SenSchumer: We must hold Russia accountable for malicious interference in democracies\n",
            "\n",
            "We must confront China’s economic, political, an…\n",
            "RT @ReutersScience: Earth’s ice is melting faster today than in the mid-1990s, new research suggests, as climate change nudges global tempe…\n",
            "RT @martine_maron: Business Council of Australia backs Zali Steggall's climate change bill for 2050 net zero target https://t.co/7BfhISElxO\n",
            "RT @POTUS: I spoke today with German Chancellor Merkel, conveying my commitment to multilateralism, the transatlantic alliance, and close c…\n",
            "@shawnmilrad The correlations that we used to know may be changing due to climate change. When doing an EOF analysi… https://t.co/TFgpcyzIAw\n",
            "RT @impact_lab: \"If prices for fossil fuels reflected their true cost to society—in heat waves, water stress, disappearing crops—they’d be…\n",
            "Joe Biden is making good on environmental promise to freeze new drilling \n",
            "https://t.co/DofWLVpDzN\n",
            "RT @POTUS: I spoke today with German Chancellor Merkel, conveying my commitment to multilateralism, the transatlantic alliance, and close c…\n",
            "RT @SenSchumer: We must hold Russia accountable for malicious interference in democracies\n",
            "\n",
            "We must confront China’s economic, political, an…\n",
            "I just signed this petition, will you join me?  https://t.co/R2NQt70My7 via @UpliftIRL\n",
            "The long-term losses from Climate Change will demonstrably outweigh the short-term losses if we continue to emit fo… https://t.co/G99kbG4LC3\n",
            "Its like vegans attacking native american victim groups. Or “socialists” screeching for “workers rights” as they cr… https://t.co/FOklFqdRuj\n",
            "RT @GeraldKutney: @WEschenbach @NlOnbehoorlijk @IPCC_CH Just stating the truth, Willis.\n",
            "\n",
            "Your fans at Heartland may enjoy this but outside…\n",
            "RT @MightyM55070329: Oxfam report: The global wealthy are main drivers of climate change https://t.co/9sxNymG035\n",
            "THERE IS NO PLANET B!! When COVID ends, all governments should prioritize their attention to climate change because… https://t.co/pKuOsNJIqP\n",
            "@gardener_inc @CAEparentCMC @WarriorZoltar @SuperDuperSJW The same \"scientists\" that used to deny tobacco was carci… https://t.co/2GjcfOlAvf\n",
            "@healthcom_Zim @WHO_Zimbabwe @healthtimeszim @MoHCCZim\n",
            "@lmsibanda @andile_tshuma @hut_green @ndlikizane\n",
            "\n",
            "Hotter cit… https://t.co/pYmZA4TJdv\n",
            "Is the other side freaking out with every executive order like we were for the past 4 years?\n",
            "\n",
            "Climate change?!\n",
            "Raci… https://t.co/81PZ7ROFFB\n",
            "@WEschenbach @NlOnbehoorlijk @IPCC_CH Just stating the truth, Willis.\n",
            "\n",
            "Your fans at Heartland may enjoy this but ou… https://t.co/934sQzOre7\n",
            "RT @les_kidz: \"More than 1M young people around the world have urged governments to prioritise measures to protect against the ravages of c…\n",
            "RT @ReutersScience: Earth’s ice is melting faster today than in the mid-1990s, new research suggests, as climate change nudges global tempe…\n",
            "@PhilArballo Climate change denier, Covid denier, loves to sue people.... seriously, how many lawsuits has he filed?\n",
            "Find a way to make churchgoers your allies in getting universal healthcare and mass mobilization against climate ch… https://t.co/Hl1Ie0FL9r\n",
            "RT @AbigailBoydMLC: Between 2009-2019, the Australian mining and resources sector donated $136.8 million to politicians and political parti…\n",
            "\"Annually, the melt rate is now about 57 percent faster than it was three decades ago, scientists report in a study… https://t.co/lNzEZcUUKk\n",
            "While we are all talking about Amanda Gorman and her poem at the inauguration of Joe Biden, know climate change is… https://t.co/r7ahQqplJl\n"
          ],
          "name": "stdout"
        }
      ]
    },
    {
      "cell_type": "markdown",
      "metadata": {
        "id": "74P9HmogRcgg"
      },
      "source": [
        "Table\n",
        "\n",
        "\n"
      ]
    },
    {
      "cell_type": "code",
      "metadata": {
        "id": "iOuG-oN6LG3s",
        "colab": {
          "base_uri": "https://localhost:8080/",
          "height": 376
        },
        "outputId": "7f88b69d-4add-4697-d507-74b03c0c92f8"
      },
      "source": [
        "data = pd.DataFrame(data=[tweet.text for tweet in tweets], columns=['Tweets'])\n",
        "display(data.head(10))\n",
        "print(tweets[0].created_at)"
      ],
      "execution_count": null,
      "outputs": [
        {
          "output_type": "display_data",
          "data": {
            "text/html": [
              "<div>\n",
              "<style scoped>\n",
              "    .dataframe tbody tr th:only-of-type {\n",
              "        vertical-align: middle;\n",
              "    }\n",
              "\n",
              "    .dataframe tbody tr th {\n",
              "        vertical-align: top;\n",
              "    }\n",
              "\n",
              "    .dataframe thead th {\n",
              "        text-align: right;\n",
              "    }\n",
              "</style>\n",
              "<table border=\"1\" class=\"dataframe\">\n",
              "  <thead>\n",
              "    <tr style=\"text-align: right;\">\n",
              "      <th></th>\n",
              "      <th>Tweets</th>\n",
              "    </tr>\n",
              "  </thead>\n",
              "  <tbody>\n",
              "    <tr>\n",
              "      <th>0</th>\n",
              "      <td>@jormorenod @robin_mavrick @SkyNewsAust @Pauli...</td>\n",
              "    </tr>\n",
              "    <tr>\n",
              "      <th>1</th>\n",
              "      <td>RT @ANUmedia: Stopping climate change requires...</td>\n",
              "    </tr>\n",
              "    <tr>\n",
              "      <th>2</th>\n",
              "      <td>RT @SenSchumer: We must hold Russia accountabl...</td>\n",
              "    </tr>\n",
              "    <tr>\n",
              "      <th>3</th>\n",
              "      <td>RT @banj0toad: weapons as in literal weapons b...</td>\n",
              "    </tr>\n",
              "    <tr>\n",
              "      <th>4</th>\n",
              "      <td>RT @sunrisemvmt: The twin crises of COVID and ...</td>\n",
              "    </tr>\n",
              "    <tr>\n",
              "      <th>5</th>\n",
              "      <td>@usqueadmortem1 @EdtheSock The hypocrites at D...</td>\n",
              "    </tr>\n",
              "    <tr>\n",
              "      <th>6</th>\n",
              "      <td>RT @wef: What to know about how to save the pl...</td>\n",
              "    </tr>\n",
              "    <tr>\n",
              "      <th>7</th>\n",
              "      <td>RT @ndcpartnership: Mongolia is leveraging sup...</td>\n",
              "    </tr>\n",
              "    <tr>\n",
              "      <th>8</th>\n",
              "      <td>RT @AmyThunig: Okay but hear me out, it’s an e...</td>\n",
              "    </tr>\n",
              "    <tr>\n",
              "      <th>9</th>\n",
              "      <td>RT @patagonia: Around the world, Indigenous co...</td>\n",
              "    </tr>\n",
              "  </tbody>\n",
              "</table>\n",
              "</div>"
            ],
            "text/plain": [
              "                                              Tweets\n",
              "0  @jormorenod @robin_mavrick @SkyNewsAust @Pauli...\n",
              "1  RT @ANUmedia: Stopping climate change requires...\n",
              "2  RT @SenSchumer: We must hold Russia accountabl...\n",
              "3  RT @banj0toad: weapons as in literal weapons b...\n",
              "4  RT @sunrisemvmt: The twin crises of COVID and ...\n",
              "5  @usqueadmortem1 @EdtheSock The hypocrites at D...\n",
              "6  RT @wef: What to know about how to save the pl...\n",
              "7  RT @ndcpartnership: Mongolia is leveraging sup...\n",
              "8  RT @AmyThunig: Okay but hear me out, it’s an e...\n",
              "9  RT @patagonia: Around the world, Indigenous co..."
            ]
          },
          "metadata": {
            "tags": []
          }
        },
        {
          "output_type": "stream",
          "text": [
            "2021-01-26 22:44:53\n"
          ],
          "name": "stdout"
        }
      ]
    },
    {
      "cell_type": "code",
      "metadata": {
        "id": "l17O2P2UO1A-",
        "colab": {
          "base_uri": "https://localhost:8080/"
        },
        "outputId": "82fcc6f9-08d5-449f-974e-bb26cb528ebb"
      },
      "source": [
        "#Downloads the vader lexicon package\n",
        "nltk.download('vader_lexicon')\n",
        "data = pd.DataFrame(data=[tweet.text for tweet in tweets], columns=['Tweets'])"
      ],
      "execution_count": null,
      "outputs": [
        {
          "output_type": "stream",
          "text": [
            "[nltk_data] Downloading package vader_lexicon to /root/nltk_data...\n",
            "[nltk_data]   Package vader_lexicon is already up-to-date!\n"
          ],
          "name": "stdout"
        }
      ]
    },
    {
      "cell_type": "code",
      "metadata": {
        "id": "hiFgZ8gFWsBp",
        "colab": {
          "base_uri": "https://localhost:8080/",
          "height": 419
        },
        "outputId": "e2553381-9819-4770-8e9c-d674ccb3eb5d"
      },
      "source": [
        "sid = SentimentIntensityAnalyzer()\n",
        "\n",
        "\n",
        "listy = []\n",
        "\n",
        "for index, row in data.iterrows():\n",
        "  ss = sid.polarity_scores(row[\"Tweets\"])\n",
        "  listy.append(ss)\n",
        "  \n",
        "se = pd.Series(listy)\n",
        "data['polarity'] = se.values\n",
        "\n",
        "display(data.head(100))"
      ],
      "execution_count": null,
      "outputs": [
        {
          "output_type": "display_data",
          "data": {
            "text/html": [
              "<div>\n",
              "<style scoped>\n",
              "    .dataframe tbody tr th:only-of-type {\n",
              "        vertical-align: middle;\n",
              "    }\n",
              "\n",
              "    .dataframe tbody tr th {\n",
              "        vertical-align: top;\n",
              "    }\n",
              "\n",
              "    .dataframe thead th {\n",
              "        text-align: right;\n",
              "    }\n",
              "</style>\n",
              "<table border=\"1\" class=\"dataframe\">\n",
              "  <thead>\n",
              "    <tr style=\"text-align: right;\">\n",
              "      <th></th>\n",
              "      <th>Tweets</th>\n",
              "      <th>polarity</th>\n",
              "    </tr>\n",
              "  </thead>\n",
              "  <tbody>\n",
              "    <tr>\n",
              "      <th>0</th>\n",
              "      <td>@jormorenod @robin_mavrick @SkyNewsAust @Pauli...</td>\n",
              "      <td>{'neg': 0.0, 'neu': 0.828, 'pos': 0.172, 'comp...</td>\n",
              "    </tr>\n",
              "    <tr>\n",
              "      <th>1</th>\n",
              "      <td>RT @ANUmedia: Stopping climate change requires...</td>\n",
              "      <td>{'neg': 0.071, 'neu': 0.848, 'pos': 0.08, 'com...</td>\n",
              "    </tr>\n",
              "    <tr>\n",
              "      <th>2</th>\n",
              "      <td>RT @SenSchumer: We must hold Russia accountabl...</td>\n",
              "      <td>{'neg': 0.086, 'neu': 0.914, 'pos': 0.0, 'comp...</td>\n",
              "    </tr>\n",
              "    <tr>\n",
              "      <th>3</th>\n",
              "      <td>RT @banj0toad: weapons as in literal weapons b...</td>\n",
              "      <td>{'neg': 0.383, 'neu': 0.617, 'pos': 0.0, 'comp...</td>\n",
              "    </tr>\n",
              "    <tr>\n",
              "      <th>4</th>\n",
              "      <td>RT @sunrisemvmt: The twin crises of COVID and ...</td>\n",
              "      <td>{'neg': 0.152, 'neu': 0.779, 'pos': 0.07, 'com...</td>\n",
              "    </tr>\n",
              "    <tr>\n",
              "      <th>...</th>\n",
              "      <td>...</td>\n",
              "      <td>...</td>\n",
              "    </tr>\n",
              "    <tr>\n",
              "      <th>95</th>\n",
              "      <td>@PhilArballo Climate change denier, Covid deni...</td>\n",
              "      <td>{'neg': 0.346, 'neu': 0.5, 'pos': 0.154, 'comp...</td>\n",
              "    </tr>\n",
              "    <tr>\n",
              "      <th>96</th>\n",
              "      <td>Find a way to make churchgoers your allies in ...</td>\n",
              "      <td>{'neg': 0.0, 'neu': 1.0, 'pos': 0.0, 'compound...</td>\n",
              "    </tr>\n",
              "    <tr>\n",
              "      <th>97</th>\n",
              "      <td>RT @AbigailBoydMLC: Between 2009-2019, the Aus...</td>\n",
              "      <td>{'neg': 0.0, 'neu': 1.0, 'pos': 0.0, 'compound...</td>\n",
              "    </tr>\n",
              "    <tr>\n",
              "      <th>98</th>\n",
              "      <td>\"Annually, the melt rate is now about 57 perce...</td>\n",
              "      <td>{'neg': 0.0, 'neu': 1.0, 'pos': 0.0, 'compound...</td>\n",
              "    </tr>\n",
              "    <tr>\n",
              "      <th>99</th>\n",
              "      <td>While we are all talking about Amanda Gorman a...</td>\n",
              "      <td>{'neg': 0.0, 'neu': 1.0, 'pos': 0.0, 'compound...</td>\n",
              "    </tr>\n",
              "  </tbody>\n",
              "</table>\n",
              "<p>100 rows × 2 columns</p>\n",
              "</div>"
            ],
            "text/plain": [
              "                                               Tweets                                           polarity\n",
              "0   @jormorenod @robin_mavrick @SkyNewsAust @Pauli...  {'neg': 0.0, 'neu': 0.828, 'pos': 0.172, 'comp...\n",
              "1   RT @ANUmedia: Stopping climate change requires...  {'neg': 0.071, 'neu': 0.848, 'pos': 0.08, 'com...\n",
              "2   RT @SenSchumer: We must hold Russia accountabl...  {'neg': 0.086, 'neu': 0.914, 'pos': 0.0, 'comp...\n",
              "3   RT @banj0toad: weapons as in literal weapons b...  {'neg': 0.383, 'neu': 0.617, 'pos': 0.0, 'comp...\n",
              "4   RT @sunrisemvmt: The twin crises of COVID and ...  {'neg': 0.152, 'neu': 0.779, 'pos': 0.07, 'com...\n",
              "..                                                ...                                                ...\n",
              "95  @PhilArballo Climate change denier, Covid deni...  {'neg': 0.346, 'neu': 0.5, 'pos': 0.154, 'comp...\n",
              "96  Find a way to make churchgoers your allies in ...  {'neg': 0.0, 'neu': 1.0, 'pos': 0.0, 'compound...\n",
              "97  RT @AbigailBoydMLC: Between 2009-2019, the Aus...  {'neg': 0.0, 'neu': 1.0, 'pos': 0.0, 'compound...\n",
              "98  \"Annually, the melt rate is now about 57 perce...  {'neg': 0.0, 'neu': 1.0, 'pos': 0.0, 'compound...\n",
              "99  While we are all talking about Amanda Gorman a...  {'neg': 0.0, 'neu': 1.0, 'pos': 0.0, 'compound...\n",
              "\n",
              "[100 rows x 2 columns]"
            ]
          },
          "metadata": {
            "tags": []
          }
        }
      ]
    },
    {
      "cell_type": "markdown",
      "metadata": {
        "id": "6coqR0nvfItN"
      },
      "source": [
        "#Sentiment Analysis in Spanish"
      ]
    },
    {
      "cell_type": "code",
      "metadata": {
        "colab": {
          "base_uri": "https://localhost:8080/"
        },
        "id": "Zd_xPS6ggF9K",
        "outputId": "1c6199a5-4f64-42ea-84aa-d10f3722117b"
      },
      "source": [
        "!pip install pySentimiento"
      ],
      "execution_count": null,
      "outputs": [
        {
          "output_type": "stream",
          "text": [
            "Collecting pySentimiento\n",
            "  Downloading https://files.pythonhosted.org/packages/67/35/337315a7208973cd877d3d64c8c4fd82b446d6a62b8d1f7587137ee700ea/pysentimiento-0.1.0rc1-py3-none-any.whl\n",
            "Collecting transformers==3.5.1\n",
            "\u001b[?25l  Downloading https://files.pythonhosted.org/packages/3a/83/e74092e7f24a08d751aa59b37a9fc572b2e4af3918cb66f7766c3affb1b4/transformers-3.5.1-py3-none-any.whl (1.3MB)\n",
            "\u001b[K     |████████████████████████████████| 1.3MB 7.5MB/s \n",
            "\u001b[?25hRequirement already satisfied: packaging in /usr/local/lib/python3.6/dist-packages (from transformers==3.5.1->pySentimiento) (20.8)\n",
            "Requirement already satisfied: regex!=2019.12.17 in /usr/local/lib/python3.6/dist-packages (from transformers==3.5.1->pySentimiento) (2019.12.20)\n",
            "Requirement already satisfied: tqdm>=4.27 in /usr/local/lib/python3.6/dist-packages (from transformers==3.5.1->pySentimiento) (4.41.1)\n",
            "Requirement already satisfied: filelock in /usr/local/lib/python3.6/dist-packages (from transformers==3.5.1->pySentimiento) (3.0.12)\n",
            "Requirement already satisfied: numpy in /usr/local/lib/python3.6/dist-packages (from transformers==3.5.1->pySentimiento) (1.19.5)\n",
            "Collecting tokenizers==0.9.3\n",
            "\u001b[?25l  Downloading https://files.pythonhosted.org/packages/4c/34/b39eb9994bc3c999270b69c9eea40ecc6f0e97991dba28282b9fd32d44ee/tokenizers-0.9.3-cp36-cp36m-manylinux1_x86_64.whl (2.9MB)\n",
            "\u001b[K     |████████████████████████████████| 2.9MB 26.4MB/s \n",
            "\u001b[?25hRequirement already satisfied: dataclasses; python_version < \"3.7\" in /usr/local/lib/python3.6/dist-packages (from transformers==3.5.1->pySentimiento) (0.8)\n",
            "Collecting sentencepiece==0.1.91\n",
            "\u001b[?25l  Downloading https://files.pythonhosted.org/packages/d4/a4/d0a884c4300004a78cca907a6ff9a5e9fe4f090f5d95ab341c53d28cbc58/sentencepiece-0.1.91-cp36-cp36m-manylinux1_x86_64.whl (1.1MB)\n",
            "\u001b[K     |████████████████████████████████| 1.1MB 52.7MB/s \n",
            "\u001b[?25hRequirement already satisfied: requests in /usr/local/lib/python3.6/dist-packages (from transformers==3.5.1->pySentimiento) (2.23.0)\n",
            "Requirement already satisfied: protobuf in /usr/local/lib/python3.6/dist-packages (from transformers==3.5.1->pySentimiento) (3.12.4)\n",
            "Collecting sacremoses\n",
            "\u001b[?25l  Downloading https://files.pythonhosted.org/packages/7d/34/09d19aff26edcc8eb2a01bed8e98f13a1537005d31e95233fd48216eed10/sacremoses-0.0.43.tar.gz (883kB)\n",
            "\u001b[K     |████████████████████████████████| 890kB 61.8MB/s \n",
            "\u001b[?25hRequirement already satisfied: pyparsing>=2.0.2 in /usr/local/lib/python3.6/dist-packages (from packaging->transformers==3.5.1->pySentimiento) (2.4.7)\n",
            "Requirement already satisfied: chardet<4,>=3.0.2 in /usr/local/lib/python3.6/dist-packages (from requests->transformers==3.5.1->pySentimiento) (3.0.4)\n",
            "Requirement already satisfied: urllib3!=1.25.0,!=1.25.1,<1.26,>=1.21.1 in /usr/local/lib/python3.6/dist-packages (from requests->transformers==3.5.1->pySentimiento) (1.24.3)\n",
            "Requirement already satisfied: certifi>=2017.4.17 in /usr/local/lib/python3.6/dist-packages (from requests->transformers==3.5.1->pySentimiento) (2020.12.5)\n",
            "Requirement already satisfied: idna<3,>=2.5 in /usr/local/lib/python3.6/dist-packages (from requests->transformers==3.5.1->pySentimiento) (2.10)\n",
            "Requirement already satisfied: six>=1.9 in /usr/local/lib/python3.6/dist-packages (from protobuf->transformers==3.5.1->pySentimiento) (1.15.0)\n",
            "Requirement already satisfied: setuptools in /usr/local/lib/python3.6/dist-packages (from protobuf->transformers==3.5.1->pySentimiento) (51.3.3)\n",
            "Requirement already satisfied: click in /usr/local/lib/python3.6/dist-packages (from sacremoses->transformers==3.5.1->pySentimiento) (7.1.2)\n",
            "Requirement already satisfied: joblib in /usr/local/lib/python3.6/dist-packages (from sacremoses->transformers==3.5.1->pySentimiento) (1.0.0)\n",
            "Building wheels for collected packages: sacremoses\n",
            "  Building wheel for sacremoses (setup.py) ... \u001b[?25l\u001b[?25hdone\n",
            "  Created wheel for sacremoses: filename=sacremoses-0.0.43-cp36-none-any.whl size=893261 sha256=ca84ae6c47e75b569be2faa81d67ddc3cd6b7d090400cc108680708843bdab53\n",
            "  Stored in directory: /root/.cache/pip/wheels/29/3c/fd/7ce5c3f0666dab31a50123635e6fb5e19ceb42ce38d4e58f45\n",
            "Successfully built sacremoses\n",
            "Installing collected packages: tokenizers, sentencepiece, sacremoses, transformers, pySentimiento\n",
            "Successfully installed pySentimiento-0.1.0rc1 sacremoses-0.0.43 sentencepiece-0.1.91 tokenizers-0.9.3 transformers-3.5.1\n"
          ],
          "name": "stdout"
        }
      ]
    },
    {
      "cell_type": "code",
      "metadata": {
        "id": "7NUTppL3-xXG"
      },
      "source": [
        "from pysentimiento import SentimentAnalyzer"
      ],
      "execution_count": null,
      "outputs": []
    },
    {
      "cell_type": "code",
      "metadata": {
        "colab": {
          "base_uri": "https://localhost:8080/",
          "height": 262,
          "referenced_widgets": [
            "58e13a54e473427692694233ee8d7296",
            "08dae138c14642989240a4fd6d878daf",
            "9b42b2dd397e43a686dc7649b14306a6",
            "84a397f55ba14e029626554da45a4316",
            "1d1f658719384b08b00f7ad49f4019e9",
            "4686658ec6d64ce9a035cba409851cbd",
            "104dcc0fa853490c8ce1efee976a83aa",
            "674f602bffa9450ca29af3914b12b22d",
            "1612b92750154efc8a85d43bf00c3d71",
            "9cf8569fa52d4a48aa19234edb52e5a8",
            "396518d7c5f4491eba44742848f2dda8",
            "17ece3b413b64e1384d68142863ae9e5",
            "a5fdcf7714b0481f90b8cd03478cb982",
            "ffb4790f14bb4b48a2c15dd1d5507b25",
            "7748f72d5b694d04aad83189dee93341",
            "8e331336603d48bb90ee857c6c1faf7a",
            "0f224e6b633e4a35b0bc9c6c559a5cdd",
            "60a26dc36eaf49b094b4dc2b7fc18a37",
            "80382f48ec364dc6870c45c5e5dcc7fc",
            "6223b2ea25eb4ce2bff2fb70c15f341b",
            "6ec59cb1745e45b0a4f797e69abe149c",
            "5a30107a4b9749a4ba70e9a1273cf9fb",
            "7bc6a4150cae4677b945fe0a3aeb6cc4",
            "94bf87e2026647798199ba6f053a625b",
            "137011ed48d34acfbe5f02c43523ff3e",
            "cb117d162f2046c9ba33b968ed05af78",
            "6d91e514530142b1801fe1ffce604d98",
            "34f11d6ebf2d402680480801a172d949",
            "43cba82553424ee2b81afcacde1396e2",
            "9937d60efb3a47988cdde7204d7a07cf",
            "c819bb689fc049fa83bb70dc005f43d6",
            "9779a46623734a1796409477c7011aa9",
            "8eae9fda4c3c4e22ab17e4caef0f8f0f",
            "1e285804bb8d436e89fb9d78a991933a",
            "cf4893e47cd3472296bcfd5d8981a197",
            "3243353efda5415cbfec4c3ed5d5e0c7",
            "c6f928ddb439475fb2da2e18c057dcab",
            "1a8f1379d7ef4bd79267a26fae6e9328",
            "0c122e0f6bc740048f47e94fc2589c61",
            "441ce32c20fd4f8ba17e32a8f88104ca"
          ]
        },
        "id": "nZxdEf1u-3wa",
        "outputId": "ebcf88b3-3826-4958-aa0a-066c623503e1"
      },
      "source": [
        "analyzer = SentimentAnalyzer()"
      ],
      "execution_count": null,
      "outputs": [
        {
          "output_type": "display_data",
          "data": {
            "application/vnd.jupyter.widget-view+json": {
              "model_id": "58e13a54e473427692694233ee8d7296",
              "version_minor": 0,
              "version_major": 2
            },
            "text/plain": [
              "HBox(children=(FloatProgress(value=0.0, description='Downloading', max=658.0, style=ProgressStyle(description_…"
            ]
          },
          "metadata": {
            "tags": []
          }
        },
        {
          "output_type": "stream",
          "text": [
            "\n"
          ],
          "name": "stdout"
        },
        {
          "output_type": "display_data",
          "data": {
            "application/vnd.jupyter.widget-view+json": {
              "model_id": "1612b92750154efc8a85d43bf00c3d71",
              "version_minor": 0,
              "version_major": 2
            },
            "text/plain": [
              "HBox(children=(FloatProgress(value=0.0, description='Downloading', max=242120.0, style=ProgressStyle(descripti…"
            ]
          },
          "metadata": {
            "tags": []
          }
        },
        {
          "output_type": "stream",
          "text": [
            "\n"
          ],
          "name": "stdout"
        },
        {
          "output_type": "display_data",
          "data": {
            "application/vnd.jupyter.widget-view+json": {
              "model_id": "0f224e6b633e4a35b0bc9c6c559a5cdd",
              "version_minor": 0,
              "version_major": 2
            },
            "text/plain": [
              "HBox(children=(FloatProgress(value=0.0, description='Downloading', max=112.0, style=ProgressStyle(description_…"
            ]
          },
          "metadata": {
            "tags": []
          }
        },
        {
          "output_type": "stream",
          "text": [
            "\n"
          ],
          "name": "stdout"
        },
        {
          "output_type": "display_data",
          "data": {
            "application/vnd.jupyter.widget-view+json": {
              "model_id": "137011ed48d34acfbe5f02c43523ff3e",
              "version_minor": 0,
              "version_major": 2
            },
            "text/plain": [
              "HBox(children=(FloatProgress(value=0.0, description='Downloading', max=253.0, style=ProgressStyle(description_…"
            ]
          },
          "metadata": {
            "tags": []
          }
        },
        {
          "output_type": "stream",
          "text": [
            "\n"
          ],
          "name": "stdout"
        },
        {
          "output_type": "display_data",
          "data": {
            "application/vnd.jupyter.widget-view+json": {
              "model_id": "8eae9fda4c3c4e22ab17e4caef0f8f0f",
              "version_minor": 0,
              "version_major": 2
            },
            "text/plain": [
              "HBox(children=(FloatProgress(value=0.0, description='Downloading', max=439465385.0, style=ProgressStyle(descri…"
            ]
          },
          "metadata": {
            "tags": []
          }
        },
        {
          "output_type": "stream",
          "text": [
            "\n"
          ],
          "name": "stdout"
        }
      ]
    },
    {
      "cell_type": "code",
      "metadata": {
        "colab": {
          "base_uri": "https://localhost:8080/",
          "height": 35
        },
        "id": "4lPwdJRA_ALA",
        "outputId": "ded01b95-09cc-402d-fd4f-cc833dc10f07"
      },
      "source": [
        "analyzer.predict('El analisis de sentimiento en español es genial')"
      ],
      "execution_count": null,
      "outputs": [
        {
          "output_type": "execute_result",
          "data": {
            "application/vnd.google.colaboratory.intrinsic+json": {
              "type": "string"
            },
            "text/plain": [
              "'POS'"
            ]
          },
          "metadata": {
            "tags": []
          },
          "execution_count": 17
        }
      ]
    },
    {
      "cell_type": "code",
      "metadata": {
        "id": "Pa19aabA_Lf8"
      },
      "source": [
        ""
      ],
      "execution_count": null,
      "outputs": []
    }
  ]
}